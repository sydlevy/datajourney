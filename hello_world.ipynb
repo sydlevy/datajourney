{
 "cells": [
  {
   "cell_type": "code",
   "execution_count": 4,
   "id": "e9b5d09e",
   "metadata": {},
   "outputs": [
    {
     "name": "stdout",
     "output_type": "stream",
     "text": [
      "Hello  Syd\n",
      "Syd is learning python with  Ben\n"
     ]
    }
   ],
   "source": [
    "name = \"Syd\"\n",
    "instructor = \"Ben\"\n",
    "\n",
    "print(\"Hello \",name)\n",
    "print(name, \"is learning python with \",instructor)\n"
   ]
  }
 ],
 "metadata": {
  "kernelspec": {
   "display_name": ".venv",
   "language": "python",
   "name": "python3"
  },
  "language_info": {
   "codemirror_mode": {
    "name": "ipython",
    "version": 3
   },
   "file_extension": ".py",
   "mimetype": "text/x-python",
   "name": "python",
   "nbconvert_exporter": "python",
   "pygments_lexer": "ipython3",
   "version": "3.13.3"
  }
 },
 "nbformat": 4,
 "nbformat_minor": 5
}
